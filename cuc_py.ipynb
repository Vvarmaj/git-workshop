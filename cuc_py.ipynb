{
  "nbformat": 4,
  "nbformat_minor": 0,
  "metadata": {
    "colab": {
      "provenance": [],
      "authorship_tag": "ABX9TyMvpzXqY/byRQrs6/a2Chgq",
      "include_colab_link": true
    },
    "kernelspec": {
      "name": "python3",
      "display_name": "Python 3"
    },
    "language_info": {
      "name": "python"
    }
  },
  "cells": [
    {
      "cell_type": "markdown",
      "metadata": {
        "id": "view-in-github",
        "colab_type": "text"
      },
      "source": [
        "<a href=\"https://colab.research.google.com/github/Vvarmaj/git-workshop/blob/main/cuc_py.ipynb\" target=\"_parent\"><img src=\"https://colab.research.google.com/assets/colab-badge.svg\" alt=\"Open In Colab\"/></a>"
      ]
    },
    {
      "cell_type": "code",
      "execution_count": 23,
      "metadata": {
        "id": "1CdiaHKeQtDP"
      },
      "outputs": [],
      "source": [
        "import random\n",
        "from prettytable import PrettyTable\n",
        "\n",
        "class CuckooHashTable:\n",
        "    def __init__(self, size):\n",
        "        self.table1 = [None] * size\n",
        "        self.table2 = [None] * size\n",
        "        self.size = size\n",
        "\n",
        "    def hash1(self, key):\n",
        "        return hash(key) % self.size\n",
        "\n",
        "    def hash2(self, key):\n",
        "        return (hash(key) // self.size + 1) % self.size\n",
        "\n",
        "    def search(self, key):\n",
        "        index1 = self.hash1(key)\n",
        "        index2 = self.hash2(key)\n",
        "        if self.table1[index1] == key or self.table2[index2] == key:\n",
        "            return True\n",
        "        return False\n",
        "\n",
        "    def insert(self, key):\n",
        "        index1 = self.hash1(key)\n",
        "        index2 = self.hash2(key)\n",
        "        if self.table1[index1] is None:\n",
        "            self.table1[index1] = key\n",
        "            return True\n",
        "        elif self.table2[index2] is None:\n",
        "            self.table2[index2] = key\n",
        "            return True\n",
        "        else:\n",
        "            temp = key\n",
        "            key = self.table1[index1]\n",
        "            self.table1[index1] = temp\n",
        "            index1 = self.hash2(key)\n",
        "            if self.table2[index1] is None:\n",
        "                self.table2[index1] = key\n",
        "                return True\n",
        "            else:\n",
        "                self.table2[index1] = key\n",
        "                return False\n",
        "\n",
        "    # def delete(self, key):\n",
        "    #     index1 = self.hash1(key)\n",
        "    #     index2 = self.hash2(key)\n",
        "    #     if self.table1[index1] == key:\n",
        "    #         self.table1[index1] = None\n",
        "    #         return True\n",
        "    #     elif self.table2[index2] == key:\n",
        "    #         self.table2[index2] = None\n",
        "    #         return True\n",
        "    #     return False\n",
        "\n",
        "    def display(self):\n",
        "        x = PrettyTable()\n",
        "        x.field_names = [\"Index\", \"Table 1\", \"Table 2\"]\n",
        "        for i in range(self.size):\n",
        "            x.add_row([i, self.table1[i], self.table2[i]])\n",
        "            \n",
        "        print(x)\n",
        "table = CuckooHashTable(10)\n",
        "\n",
        "for i in range(30):\n",
        "    key = str(random.randint(0,1000))\n",
        "    table.insert(key)\n",
        "\n"
      ]
    },
    {
      "cell_type": "code",
      "source": [
        "table.display()"
      ],
      "metadata": {
        "colab": {
          "base_uri": "https://localhost:8080/"
        },
        "id": "JbfRzB1rpx4Z",
        "outputId": "2f97ffd1-58bf-4e66-e45f-711959f3118c"
      },
      "execution_count": 28,
      "outputs": [
        {
          "output_type": "stream",
          "name": "stdout",
          "text": [
            "+-------+---------+---------+\n",
            "| Index | Table 1 | Table 2 |\n",
            "+-------+---------+---------+\n",
            "|   0   |   172   |   480   |\n",
            "|   1   |   206   |   620   |\n",
            "|   2   |   872   |   723   |\n",
            "|   3   |   636   |   689   |\n",
            "|   4   |   521   |    62   |\n",
            "|   5   |   752   |   322   |\n",
            "|   6   |   200   |   536   |\n",
            "|   7   |   684   |    84   |\n",
            "|   8   |    33   |   840   |\n",
            "|   9   |    44   |   591   |\n",
            "+-------+---------+---------+\n"
          ]
        }
      ]
    },
    {
      "cell_type": "code",
      "source": [
        "#At this time, we are inserting element 13, and the insertion operation is successful since the element 13 was added to index 3 of table 1 in -\n",
        "# -conjunction with the exchange of 636 in table 1 and the deletion of 480 in table 2.\n",
        "\n",
        "table.insert(13)\n",
        "table.display()"
      ],
      "metadata": {
        "colab": {
          "base_uri": "https://localhost:8080/"
        },
        "id": "EdXnZuaPbfwM",
        "outputId": "506429df-5dc0-4499-f7a6-b75af29be122"
      },
      "execution_count": 32,
      "outputs": [
        {
          "output_type": "stream",
          "name": "stdout",
          "text": [
            "+-------+---------+---------+\n",
            "| Index | Table 1 | Table 2 |\n",
            "+-------+---------+---------+\n",
            "|   0   |   172   |   636   |\n",
            "|   1   |   206   |   620   |\n",
            "|   2   |   872   |    13   |\n",
            "|   3   |    13   |   689   |\n",
            "|   4   |   521   |    62   |\n",
            "|   5   |   752   |   322   |\n",
            "|   6   |   200   |   536   |\n",
            "|   7   |   684   |    84   |\n",
            "|   8   |    33   |   840   |\n",
            "|   9   |    44   |   591   |\n",
            "+-------+---------+---------+\n"
          ]
        }
      ]
    },
    {
      "cell_type": "code",
      "source": [],
      "metadata": {
        "id": "1hcfPpfvdzNQ"
      },
      "execution_count": null,
      "outputs": []
    }
  ]
}